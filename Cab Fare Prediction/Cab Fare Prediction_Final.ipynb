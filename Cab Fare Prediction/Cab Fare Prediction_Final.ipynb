{
 "cells": [
  {
   "cell_type": "markdown",
   "metadata": {},
   "source": [
    "# Cab fare prediction"
   ]
  },
  {
   "cell_type": "code",
   "execution_count": 1,
   "metadata": {},
   "outputs": [],
   "source": [
    "#load required libraries\n",
    "import pandas as pd\n",
    "import os\n",
    "import numpy as np\n",
    "import matplotlib.pyplot as plt\n",
    "import seaborn as sns\n",
    "from collections import Counter\n",
    "from datetime import datetime\n",
    "from math import sin, cos, sqrt, atan2, radians\n",
    "from scipy.stats import chi2_contingency\n",
    "from random import randrange, uniform"
   ]
  },
  {
   "cell_type": "code",
   "execution_count": 2,
   "metadata": {},
   "outputs": [
    {
     "data": {
      "text/plain": [
       "'D:\\\\Data Science\\\\Cab Fare'"
      ]
     },
     "execution_count": 2,
     "metadata": {},
     "output_type": "execute_result"
    }
   ],
   "source": [
    "#import the dataset\n",
    "os.chdir(\"D:/Data Science/Cab Fare\")\n",
    "\n",
    "#lets check the working directory\n",
    "os.getcwd()"
   ]
  },
  {
   "cell_type": "code",
   "execution_count": 3,
   "metadata": {},
   "outputs": [],
   "source": [
    "# Load data\n",
    "Cab_train = pd.read_csv(\"train_cab.csv\")"
   ]
  },
  {
   "cell_type": "markdown",
   "metadata": {},
   "source": [
    "# Explore the data"
   ]
  },
  {
   "cell_type": "code",
   "execution_count": null,
   "metadata": {},
   "outputs": [],
   "source": [
    "# lets Check class of the data\n",
    "type(Cab_train)"
   ]
  },
  {
   "cell_type": "code",
   "execution_count": null,
   "metadata": {},
   "outputs": [],
   "source": [
    "# lets Check the dimensions\n",
    "Cab_train.shape"
   ]
  },
  {
   "cell_type": "code",
   "execution_count": null,
   "metadata": {},
   "outputs": [],
   "source": [
    "# lets Check names of dataset\n",
    "Cab_train.columns"
   ]
  },
  {
   "cell_type": "code",
   "execution_count": null,
   "metadata": {},
   "outputs": [],
   "source": [
    "# lets Check first rows of dataset \n",
    "Cab_train.head()"
   ]
  },
  {
   "cell_type": "code",
   "execution_count": null,
   "metadata": {},
   "outputs": [],
   "source": [
    "# lets Check last rows of dataset \n",
    "Cab_train.tail()"
   ]
  },
  {
   "cell_type": "code",
   "execution_count": null,
   "metadata": {},
   "outputs": [],
   "source": [
    "#lets Check structure of dataset\n",
    "Cab_train.dtypes"
   ]
  },
  {
   "cell_type": "code",
   "execution_count": null,
   "metadata": {},
   "outputs": [],
   "source": [
    "#lets Check summary of dataset \n",
    "Cab_train.describe()"
   ]
  },
  {
   "cell_type": "code",
   "execution_count": null,
   "metadata": {},
   "outputs": [],
   "source": [
    "# Variable Identification \n",
    "Cab_train['fare_amount'].dtypes"
   ]
  },
  {
   "cell_type": "code",
   "execution_count": 4,
   "metadata": {},
   "outputs": [],
   "source": [
    "# lets convert our fare_amount variable from object to numeric data type\n",
    "\n",
    "Cab_train['fare_amount'] = pd.to_numeric(Cab_train['fare_amount'], errors = \"coerce\") "
   ]
  },
  {
   "cell_type": "code",
   "execution_count": 5,
   "metadata": {},
   "outputs": [
    {
     "data": {
      "text/plain": [
       "dtype('float64')"
      ]
     },
     "execution_count": 5,
     "metadata": {},
     "output_type": "execute_result"
    }
   ],
   "source": [
    "Cab_train['fare_amount'].dtypes"
   ]
  },
  {
   "cell_type": "code",
   "execution_count": 6,
   "metadata": {},
   "outputs": [],
   "source": [
    "# when we tried convert pickup_datetime variable to date format it was throwing error coz of a starnge value in the variable\n",
    "# So first treat it as NA and drop \n",
    "\n",
    "Cab_train.loc[Cab_train['pickup_datetime'] == '43' ,'pickup_datetime'] = np.nan  \n",
    "\n",
    "Cab_train = Cab_train.drop(Cab_train[Cab_train['pickup_datetime'].isnull()].index, axis = 0)\n",
    "\n",
    "\n",
    "# Now lets convert pickup_datetime\n",
    "\n",
    "Cab_train['pickup_datetime'] =  pd.to_datetime(Cab_train['pickup_datetime'], format='%Y-%m-%d %H:%M:%S UTC')"
   ]
  },
  {
   "cell_type": "code",
   "execution_count": 7,
   "metadata": {},
   "outputs": [
    {
     "data": {
      "text/plain": [
       "fare_amount                 float64\n",
       "pickup_datetime      datetime64[ns]\n",
       "pickup_longitude            float64\n",
       "pickup_latitude             float64\n",
       "dropoff_longitude           float64\n",
       "dropoff_latitude            float64\n",
       "passenger_count             float64\n",
       "dtype: object"
      ]
     },
     "execution_count": 7,
     "metadata": {},
     "output_type": "execute_result"
    }
   ],
   "source": [
    " # lets see the datatypes after conversion\n",
    "Cab_train.dtypes"
   ]
  },
  {
   "cell_type": "markdown",
   "metadata": {},
   "source": [
    "# Missing Value Analysis"
   ]
  },
  {
   "cell_type": "code",
   "execution_count": 8,
   "metadata": {},
   "outputs": [
    {
     "data": {
      "text/plain": [
       "fare_amount          25\n",
       "pickup_datetime       0\n",
       "pickup_longitude      0\n",
       "pickup_latitude       0\n",
       "dropoff_longitude     0\n",
       "dropoff_latitude      0\n",
       "passenger_count      55\n",
       "dtype: int64"
      ]
     },
     "execution_count": 8,
     "metadata": {},
     "output_type": "execute_result"
    }
   ],
   "source": [
    "#lets see missing values in our dataset\n",
    "missing_val = Cab_train.isnull().sum()\n",
    "missing_val"
   ]
  },
  {
   "cell_type": "code",
   "execution_count": 9,
   "metadata": {},
   "outputs": [],
   "source": [
    "# Lets drop the observations with missing values because our missing values are not exceed 35%\n",
    "Cab_train = Cab_train.drop(Cab_train[Cab_train['passenger_count'].isnull()].index,axis = 0)\n",
    "Cab_train = Cab_train.drop(Cab_train[Cab_train['fare_amount'].isnull()].index,axis = 0)"
   ]
  },
  {
   "cell_type": "code",
   "execution_count": 10,
   "metadata": {},
   "outputs": [
    {
     "data": {
      "text/plain": [
       "(15986, 7)"
      ]
     },
     "execution_count": 10,
     "metadata": {},
     "output_type": "execute_result"
    }
   ],
   "source": [
    "# Lets check dimensions after missing value analysis\n",
    "\n",
    "Cab_train.shape"
   ]
  },
  {
   "cell_type": "code",
   "execution_count": 11,
   "metadata": {},
   "outputs": [],
   "source": [
    "# Lets split the pickup_date time variable into year, month, date, day, hour, minute.\n",
    "\n",
    "Cab_train['year'] =Cab_train['pickup_datetime'].dt.year\n",
    "\n",
    "Cab_train['month'] = Cab_train['pickup_datetime'].dt.month\n",
    "\n",
    "Cab_train['date'] = Cab_train['pickup_datetime'].dt.day\n",
    "\n",
    "Cab_train['day'] = Cab_train['pickup_datetime'].dt.dayofweek\n",
    "\n",
    "Cab_train['hour'] = Cab_train['pickup_datetime'].dt.hour\n",
    "\n",
    "Cab_train['minute'] = Cab_train['pickup_datetime'].dt.minute\n"
   ]
  },
  {
   "cell_type": "code",
   "execution_count": 12,
   "metadata": {},
   "outputs": [],
   "source": [
    "#lets drop the pickup datetime variable because we splitted into many variables\n",
    "Cab_train = Cab_train.drop('pickup_datetime',axis=1)"
   ]
  },
  {
   "cell_type": "code",
   "execution_count": 13,
   "metadata": {},
   "outputs": [
    {
     "data": {
      "text/plain": [
       "(15986, 12)"
      ]
     },
     "execution_count": 13,
     "metadata": {},
     "output_type": "execute_result"
    }
   ],
   "source": [
    "#lets check dimemsion after conversion of pickup datetime\n",
    "Cab_train.shape"
   ]
  },
  {
   "cell_type": "code",
   "execution_count": null,
   "metadata": {},
   "outputs": [],
   "source": [
    "# Lets check summary after conversion\n",
    "Cab_train.describe()"
   ]
  },
  {
   "cell_type": "markdown",
   "metadata": {},
   "source": [
    "# Outlier analysis"
   ]
  },
  {
   "cell_type": "code",
   "execution_count": null,
   "metadata": {},
   "outputs": [],
   "source": [
    "#lets remove outlier one by one \n",
    "#passenger count\n",
    "#here in cab maximum passenger count will be 7. above 7 will be considered as outliers\n",
    "print(Counter(Cab_train['passenger_count']<1))\n",
    "print(Counter(Cab_train['passenger_count']>7))"
   ]
  },
  {
   "cell_type": "code",
   "execution_count": 14,
   "metadata": {},
   "outputs": [
    {
     "name": "stdout",
     "output_type": "stream",
     "text": [
      "Counter({False: 15909})\n",
      "Counter({False: 15909})\n"
     ]
    }
   ],
   "source": [
    "#here passenger count has totally 77 outliers where 58 variables are 0 and 19 variables are above 7.\n",
    "#there is no use of having these data.hence we drop it\n",
    "Cab_train = Cab_train.drop(Cab_train[Cab_train['passenger_count'] > 7].index, axis=0)\n",
    "Cab_train = Cab_train.drop(Cab_train[Cab_train['passenger_count'] < 1].index, axis=0)\n",
    "\n",
    "# verify passenger count\n",
    "print(Counter(Cab_train['passenger_count'] < 1))\n",
    "print(Counter(Cab_train['passenger_count'] > 7))"
   ]
  },
  {
   "cell_type": "code",
   "execution_count": null,
   "metadata": {},
   "outputs": [],
   "source": [
    "#here in latitude ranges from -90 to +90 and longitude ranges from -180 to +180.Beyond these variables considered as an outlier\n",
    "#by seeing the summary of the dataset, we can see if there is any outliers present in our dataset\n",
    "Cab_train.describe()"
   ]
  },
  {
   "cell_type": "code",
   "execution_count": null,
   "metadata": {},
   "outputs": [],
   "source": [
    "#from the above summary, we can see that outlier present in only pickup latitude.lets dop that variable\n",
    "Cab_train = Cab_train.drop(Cab_train[Cab_train['pickup_latitude'] > 90].index, axis=0)\n",
    "Cab_train = Cab_train.drop(Cab_train[Cab_train['pickup_latitude'] < -90].index, axis=0)\n",
    "\n",
    "#let verify the dataset\n",
    "Cab_train.describe()"
   ]
  },
  {
   "cell_type": "code",
   "execution_count": null,
   "metadata": {},
   "outputs": [],
   "source": [
    "#fareamount\n",
    "# Let use describe function to check min max values and identify outliers \n",
    "Cab_train['fare_amount'].describe() \n",
    "\n",
    "# We can observe the max value as 54343 and min as -3. Practically its not possible.It clearly defines outliers. "
   ]
  },
  {
   "cell_type": "code",
   "execution_count": null,
   "metadata": {},
   "outputs": [],
   "source": [
    "#from the above inferences,we can say that the fare amount for a cab cant be in negative as well as it cannot exceed 500\n",
    "#above and below the values will be considered as outliers and drop it.\n",
    "Cab_train = Cab_train.drop(Cab_train[Cab_train['fare_amount'] > 500].index, axis=0)\n",
    "Cab_train = Cab_train.drop(Cab_train[Cab_train['fare_amount'] < 1].index, axis=0)\n",
    "\n",
    "#lets verify \n",
    "Cab_train['fare_amount'].describe()"
   ]
  },
  {
   "cell_type": "code",
   "execution_count": null,
   "metadata": {},
   "outputs": [],
   "source": [
    "# Save numeric names\n",
    "cnames =['fare_amount', 'pickup_longitude', 'pickup_latitude',\n",
    "       'dropoff_longitude', 'dropoff_latitude', 'passenger_count']"
   ]
  },
  {
   "cell_type": "code",
   "execution_count": null,
   "metadata": {},
   "outputs": [],
   "source": [
    "# Lets visualize boxplots again after outlier removal \n",
    "\n",
    "\n",
    "for i in cnames:\n",
    "    print(i)\n",
    "    plt.boxplot(Cab_train[i])\n",
    "    plt.xlabel(i)\n",
    "    plt.ylabel('fare_amount')\n",
    "    plt.title('outlier analysis')\n",
    "    plt.show() \n",
    "    "
   ]
  },
  {
   "cell_type": "code",
   "execution_count": null,
   "metadata": {},
   "outputs": [],
   "source": [
    "# Lets check shape dataset after outlier removal \n",
    "Cab_train.shape"
   ]
  },
  {
   "cell_type": "code",
   "execution_count": null,
   "metadata": {},
   "outputs": [],
   "source": [
    "Cab_train.head()"
   ]
  },
  {
   "cell_type": "code",
   "execution_count": null,
   "metadata": {},
   "outputs": [],
   "source": [
    "# Now, let's create distance using Haversine Formula \n",
    "\n",
    "# Calculates the geodesic distance between two points specified by\n",
    "\n",
    "# radian latitude/longitude using the Haversine formula "
   ]
  },
  {
   "cell_type": "code",
   "execution_count": 17,
   "metadata": {},
   "outputs": [],
   "source": [
    "from math import radians, cos, sin, asin, sqrt\n",
    "\n",
    "def distance(pickup_lat, pickup_lon, dropoff_lat, dropoff_lon):\n",
    "    \n",
    "    #Define earth radius (km)\n",
    "    R_earth = 6371\n",
    "    \n",
    "    #Convert degrees to radians\n",
    "    pickup_lat, pickup_lon, dropoff_lat, dropoff_lon = map(np.radians,\n",
    "                                                             [pickup_lat, pickup_lon, \n",
    "                                                              dropoff_lat, dropoff_lon])\n",
    "    #Compute distances along lat, lon dimensions\n",
    "    dlat = dropoff_lat - pickup_lat\n",
    "    dlon = dropoff_lon - pickup_lon\n",
    "    \n",
    "    #Compute haversine distance\n",
    "    a = np.sin(dlat/2.0)**2 + np.cos(pickup_lat) * np.cos(dropoff_lat) * np.sin(dlon/2.0)**2\n",
    "    \n",
    "    return 2 * R_earth * np.arcsin(np.sqrt(a))"
   ]
  },
  {
   "cell_type": "code",
   "execution_count": 18,
   "metadata": {},
   "outputs": [],
   "source": [
    "Cab_train['distance'] = distance(Cab_train['pickup_latitude'], \n",
    "                                     Cab_train['pickup_longitude'],\n",
    "                                     Cab_train['dropoff_latitude'] ,\n",
    "                                     Cab_train['dropoff_longitude'])"
   ]
  },
  {
   "cell_type": "code",
   "execution_count": null,
   "metadata": {},
   "outputs": [],
   "source": [
    "Cab_train.head()"
   ]
  },
  {
   "cell_type": "code",
   "execution_count": null,
   "metadata": {},
   "outputs": [],
   "source": [
    "Cab_train.shape"
   ]
  },
  {
   "cell_type": "code",
   "execution_count": null,
   "metadata": {},
   "outputs": [],
   "source": [
    "# Lets check is there any outliers in this distance variable using describe function\n",
    "# Lets plot boxplot for distance variable \n",
    "\n",
    "plt.boxplot(Cab_train['distance'])\n",
    "\n",
    "plt.xlabel('distance')\n",
    "\n",
    "plt.title('outlier analysis')\n",
    "\n",
    "plt.show()"
   ]
  },
  {
   "cell_type": "code",
   "execution_count": null,
   "metadata": {},
   "outputs": [],
   "source": [
    "Cab_train['distance'].describe() "
   ]
  },
  {
   "cell_type": "code",
   "execution_count": 19,
   "metadata": {},
   "outputs": [
    {
     "data": {
      "text/plain": [
       "count    12997.000000\n",
       "mean         3.960771\n",
       "std          4.842924\n",
       "min          1.000067\n",
       "25%          1.663539\n",
       "50%          2.583273\n",
       "75%          4.447891\n",
       "max        129.950482\n",
       "Name: distance, dtype: float64"
      ]
     },
     "execution_count": 19,
     "metadata": {},
     "output_type": "execute_result"
    }
   ],
   "source": [
    "#from above inferences, we can see that distance can't be above 130 in our dataset and less than 1 is also not practically possible.\n",
    "#lets drop those variables.\n",
    "Cab_train = Cab_train.drop(Cab_train[Cab_train['distance'] > 130].index, axis=0)\n",
    "Cab_train = Cab_train.drop(Cab_train[Cab_train['distance'] < 1].index, axis=0)\n",
    "\n",
    "#lets verify the dataset\n",
    "Cab_train['distance'].describe()"
   ]
  },
  {
   "cell_type": "code",
   "execution_count": null,
   "metadata": {},
   "outputs": [],
   "source": [
    "# Lets check the boxplot after removing outliers \n",
    "\n",
    "plt.boxplot(Cab_train['distance'])\n",
    "\n",
    "plt.xlabel('distance')\n",
    "\n",
    "plt.title('outlier analysis')\n",
    "\n",
    "plt.show()"
   ]
  },
  {
   "cell_type": "code",
   "execution_count": null,
   "metadata": {},
   "outputs": [],
   "source": [
    "#lets save our preprocessed data\n",
    "df = Cab_train\n",
    "Cab_train = df"
   ]
  },
  {
   "cell_type": "markdown",
   "metadata": {},
   "source": [
    "# Data visualization"
   ]
  },
  {
   "cell_type": "code",
   "execution_count": null,
   "metadata": {},
   "outputs": [],
   "source": [
    "Cab_train.columns"
   ]
  },
  {
   "cell_type": "code",
   "execution_count": null,
   "metadata": {},
   "outputs": [],
   "source": [
    "# Univariate Analysis \n",
    "\n",
    "\n",
    "#  fare_amount \n",
    "\n",
    "plt.figure(figsize=(8,8))\n",
    "sns.countplot(x='fare_amount',data = Cab_train,color='blue')"
   ]
  },
  {
   "cell_type": "code",
   "execution_count": null,
   "metadata": {},
   "outputs": [],
   "source": [
    "# pickup_longitude\n",
    "\n",
    "plt.figure(figsize=(8,8))\n",
    "sns.countplot(x='pickup_longitude',data = Cab_train,color='blue')\n"
   ]
  },
  {
   "cell_type": "code",
   "execution_count": null,
   "metadata": {},
   "outputs": [],
   "source": [
    "# pickup_latitude\n",
    "plt.figure(figsize=(8,8))\n",
    "sns.countplot(x='pickup_latitude',data = Cab_train,color='blue')\n"
   ]
  },
  {
   "cell_type": "code",
   "execution_count": null,
   "metadata": {},
   "outputs": [],
   "source": [
    "# dropoff_longitude\n",
    "plt.figure(figsize=(8,8))\n",
    "sns.countplot(x='dropoff_longitude',data = Cab_train,color='blue')\n"
   ]
  },
  {
   "cell_type": "code",
   "execution_count": null,
   "metadata": {},
   "outputs": [],
   "source": [
    "#dropoff_latitude\n",
    "plt.figure(figsize=(8,8))\n",
    "sns.countplot(x='dropoff_latitude',data = Cab_train,color='blue')\n"
   ]
  },
  {
   "cell_type": "code",
   "execution_count": null,
   "metadata": {},
   "outputs": [],
   "source": [
    "# passenger_count\n",
    "\n",
    "plt.figure(figsize=(8,8))\n",
    "sns.countplot(x='passenger_count',data = Cab_train,color='blue')\n",
    "\n",
    "#based on the passengers, we can see that single passengers travelled higher"
   ]
  },
  {
   "cell_type": "code",
   "execution_count": null,
   "metadata": {},
   "outputs": [],
   "source": [
    "# distance\n",
    "#distance\n",
    "# plot Distance\n",
    "plt.figure(figsize=(15,7))\n",
    "plt.hist(Cab_train['distance'], bins=10)\n",
    "plt.xlabel('Distance')\n",
    "plt.ylabel('Frequency')\n",
    "#Maximum number of passengers are travelled less than 20km"
   ]
  },
  {
   "cell_type": "code",
   "execution_count": null,
   "metadata": {},
   "outputs": [],
   "source": [
    "# Bivariate Analysis\n",
    "\n",
    "# Visualization between fare_amount and years.\n",
    "sns.scatterplot(x='year',y='fare_amount',data = Cab_train)\n",
    "# Based on the scatterplot, in year 2012 and 2013 there were rides which got high fare_amount and very low on year 2015"
   ]
  },
  {
   "cell_type": "code",
   "execution_count": null,
   "metadata": {},
   "outputs": [],
   "source": [
    "# Visualization between fare_amount and months.\n",
    "sns.scatterplot(x='month',y='fare_amount',data = Cab_train)\n",
    "# Based on the scatterplot,We can see  March month fare amount is very high and low in July month."
   ]
  },
  {
   "cell_type": "code",
   "execution_count": null,
   "metadata": {},
   "outputs": [],
   "source": [
    "# Visualization between fare_amount and weekday.\n",
    "sns.scatterplot(x='day',y='fare_amount',data = Cab_train)\n",
    "\n",
    "# Based on the scatterplot,We can see that Friday ride has the highest fare_amount"
   ]
  },
  {
   "cell_type": "code",
   "execution_count": null,
   "metadata": {},
   "outputs": [],
   "source": [
    "# Visualization between fare_amount and time.\n",
    "\n",
    "sns.scatterplot(x='hour',y='fare_amount',data = Cab_train)\n",
    "# Rides taken during 6 pm to 8 pm gives highest fare_amount"
   ]
  },
  {
   "cell_type": "code",
   "execution_count": null,
   "metadata": {},
   "outputs": [],
   "source": [
    "# Visualization between fare_amount and passenger_count\n",
    "sns.scatterplot(x=\"passenger_count\",y=\"fare_amount\",data=Cab_train)"
   ]
  },
  {
   "cell_type": "code",
   "execution_count": null,
   "metadata": {},
   "outputs": [],
   "source": [
    "# Visualization between fare_amount and distance\n",
    "sns.scatterplot(x=\"distance\",y=\"fare_amount\",data=Cab_train)\n",
    "# we can see as the distance increases fare amount also increases "
   ]
  },
  {
   "cell_type": "markdown",
   "metadata": {},
   "source": [
    "# Feature selection"
   ]
  },
  {
   "cell_type": "code",
   "execution_count": null,
   "metadata": {},
   "outputs": [],
   "source": [
    "print(Cab_train.columns)"
   ]
  },
  {
   "cell_type": "code",
   "execution_count": null,
   "metadata": {},
   "outputs": [],
   "source": [
    "#lets drop minute variable\n",
    "Cab_train =  Cab_train.drop('minute',axis = 1)\n",
    "Cab_train.shape"
   ]
  },
  {
   "cell_type": "code",
   "execution_count": null,
   "metadata": {},
   "outputs": [],
   "source": [
    "Cab_train.head()"
   ]
  },
  {
   "cell_type": "code",
   "execution_count": null,
   "metadata": {},
   "outputs": [],
   "source": [
    "Cab_train.dtypes"
   ]
  },
  {
   "cell_type": "code",
   "execution_count": 15,
   "metadata": {},
   "outputs": [],
   "source": [
    "# Lets convert passenger_count into int64 data type\n",
    "Cab_train['passenger_count'] = Cab_train['passenger_count'].astype('int64')\n",
    "\n",
    "\n",
    "# Similarly convert year,month,date,day,hour as these comes under categorical variables \n",
    "Cab_train['year'].unique()\n",
    "\n",
    "Cab_train['month'].unique()\n",
    "\n",
    "Cab_train['date'].unique()\n",
    "\n",
    "Cab_train['day'].unique()\n",
    "\n",
    "Cab_train['hour'].unique()\n",
    "\n",
    "Cab_train['year'] = Cab_train['year'].astype('object')\n",
    "\n",
    "Cab_train['month'] = Cab_train['month'].astype('object')\n",
    "\n",
    "Cab_train['date'] = Cab_train['date'].astype('object')\n",
    "\n",
    "Cab_train['day'] = Cab_train['day'].astype('object')\n",
    "\n",
    "Cab_train['hour'] = Cab_train['hour'].astype('object')\n"
   ]
  },
  {
   "cell_type": "code",
   "execution_count": 16,
   "metadata": {},
   "outputs": [
    {
     "data": {
      "text/plain": [
       "fare_amount          float64\n",
       "pickup_longitude     float64\n",
       "pickup_latitude      float64\n",
       "dropoff_longitude    float64\n",
       "dropoff_latitude     float64\n",
       "passenger_count        int64\n",
       "year                  object\n",
       "month                 object\n",
       "date                  object\n",
       "day                   object\n",
       "hour                  object\n",
       "minute                 int64\n",
       "dtype: object"
      ]
     },
     "execution_count": 16,
     "metadata": {},
     "output_type": "execute_result"
    }
   ],
   "source": [
    "Cab_train.dtypes"
   ]
  },
  {
   "cell_type": "code",
   "execution_count": null,
   "metadata": {},
   "outputs": [],
   "source": [
    "Cab_train.columns"
   ]
  },
  {
   "cell_type": "code",
   "execution_count": 20,
   "metadata": {},
   "outputs": [],
   "source": [
    "# So lets define numeric and categorical variables to find significant variables to build a model\n",
    "\n",
    "# Storing continuous variables into an  object called cnames \n",
    "\n",
    "cnames = ['fare_amount', 'pickup_longitude', 'pickup_latitude',\n",
    "       'dropoff_longitude', 'dropoff_latitude', 'passenger_count','distance']\n",
    "\n",
    "# Storing categorical variables into catnames object\n",
    "\n",
    "catnames = ['year','month', 'date', 'day', 'hour']"
   ]
  },
  {
   "cell_type": "code",
   "execution_count": 21,
   "metadata": {},
   "outputs": [],
   "source": [
    "##Correlation analysis\n",
    "#Correlation plot\n",
    "\n",
    "df_corr = Cab_train.loc[:,cnames]\n"
   ]
  },
  {
   "cell_type": "code",
   "execution_count": 22,
   "metadata": {},
   "outputs": [
    {
     "name": "stdout",
     "output_type": "stream",
     "text": [
      "                   fare_amount  pickup_longitude  pickup_latitude  \\\n",
      "fare_amount           1.000000         -0.000115        -0.000186   \n",
      "pickup_longitude     -0.000115          1.000000        -0.580189   \n",
      "pickup_latitude      -0.000186         -0.580189         1.000000   \n",
      "dropoff_longitude    -0.000015          0.999782        -0.580222   \n",
      "dropoff_latitude      0.000165         -0.992110         0.584874   \n",
      "passenger_count      -0.004727         -0.009109         0.001941   \n",
      "distance              0.016402          0.007539         0.042892   \n",
      "\n",
      "                   dropoff_longitude  dropoff_latitude  passenger_count  \\\n",
      "fare_amount                -0.000015          0.000165        -0.004727   \n",
      "pickup_longitude            0.999782         -0.992110        -0.009109   \n",
      "pickup_latitude            -0.580222          0.584874         0.001941   \n",
      "dropoff_longitude           1.000000         -0.992088        -0.009150   \n",
      "dropoff_latitude           -0.992088          1.000000         0.009570   \n",
      "passenger_count            -0.009150          0.009570         1.000000   \n",
      "distance                    0.005012         -0.001977        -0.005764   \n",
      "\n",
      "                   distance  \n",
      "fare_amount        0.016402  \n",
      "pickup_longitude   0.007539  \n",
      "pickup_latitude    0.042892  \n",
      "dropoff_longitude  0.005012  \n",
      "dropoff_latitude  -0.001977  \n",
      "passenger_count   -0.005764  \n",
      "distance           1.000000  \n"
     ]
    },
    {
     "data": {
      "text/plain": [
       "<matplotlib.axes._subplots.AxesSubplot at 0x232d287a240>"
      ]
     },
     "execution_count": 22,
     "metadata": {},
     "output_type": "execute_result"
    },
    {
     "data": {
      "image/png": "[encoded data removed]",
      "text/plain": [
       "<Figure size 504x360 with 2 Axes>"
      ]
     },
     "metadata": {
      "needs_background": "light"
     },
     "output_type": "display_data"
    }
   ],
   "source": [
    "#Set the width and hieght of the plot\n",
    "f, ax = plt.subplots(figsize=(7, 5))\n",
    "\n",
    "#Generate correlation matrix\n",
    "corr = df_corr.corr()\n",
    "\n",
    "print(corr)# From correlation analysis we can say distance is significant variable to pass in to the model \n",
    "\n",
    "#Plot using seaborn library\n",
    "sns.heatmap(corr, mask=np.zeros_like(corr, dtype=np.bool), cmap=sns.diverging_palette(220, 10, as_cmap=True),\n",
    "            square=True, ax=ax,annot=True)"
   ]
  },
  {
   "cell_type": "code",
   "execution_count": null,
   "metadata": {},
   "outputs": [],
   "source": [
    "# Anova Test is performed between catnames (categorical independent variables) & fare_amount(continuous target variable) \n",
    "\n",
    "import statsmodels.api as sm\n",
    "\n",
    "from statsmodels.formula.api import ols\n",
    "\n",
    "for i in catnames:\n",
    "    mod = ols('fare_amount' + '~' + i, data = Cab_train).fit()\n",
    "    aov_table = sm.stats.anova_lm(mod, typ = 2)\n",
    "    print(aov_table)\n",
    "    \n",
    "# From the anova result, we can observe Date ,weekday\n",
    "\n",
    "# has p value > 0.05, so delete these variables not consider in model."
   ]
  },
  {
   "cell_type": "code",
   "execution_count": null,
   "metadata": {},
   "outputs": [],
   "source": [
    "# After correlation and ANOVA test we need to remove these variables \n",
    "# Cat variables - weekday and date(which has p-value>0.05)\n",
    "\n",
    "Cab_train = Cab_train.drop('date', axis = 1)\n",
    "Cab_train = Cab_train.drop('day', axis = 1)\n"
   ]
  },
  {
   "cell_type": "code",
   "execution_count": null,
   "metadata": {},
   "outputs": [],
   "source": [
    "# Lets cross check shape of dataset after feature selection\n",
    "Cab_train.shape"
   ]
  },
  {
   "cell_type": "code",
   "execution_count": null,
   "metadata": {},
   "outputs": [],
   "source": [
    "Cab_train.head()"
   ]
  },
  {
   "cell_type": "code",
   "execution_count": null,
   "metadata": {},
   "outputs": [],
   "source": [
    "# Storing final categorical variables into cat_var object for model development \n",
    "Catnmaes = ['year', 'month', 'hour']"
   ]
  },
  {
   "cell_type": "markdown",
   "metadata": {},
   "source": [
    "# Feature Scaling"
   ]
  },
  {
   "cell_type": "code",
   "execution_count": null,
   "metadata": {},
   "outputs": [],
   "source": [
    "# Lets check the distribution of our data"
   ]
  },
  {
   "cell_type": "code",
   "execution_count": null,
   "metadata": {},
   "outputs": [],
   "source": [
    "# passenger_count\n",
    "sns.distplot(Cab_train['passenger_count'],bins='auto',color='blue')\n",
    "plt.title(\"Distribution of passenger_count\")\n",
    "plt.ylabel(\"Density\")\n",
    "plt.show()"
   ]
  },
  {
   "cell_type": "code",
   "execution_count": null,
   "metadata": {},
   "outputs": [],
   "source": [
    "# distance variable\n",
    "sns.distplot(Cab_train['distance'],bins='auto',color='blue')\n",
    "plt.title(\"Distribution of distance\")\n",
    "plt.ylabel(\"Density\")\n",
    "plt.show()"
   ]
  },
  {
   "cell_type": "code",
   "execution_count": null,
   "metadata": {},
   "outputs": [],
   "source": [
    "# The distance variable is right skewed we can reduce this skewness using log transformation\n",
    "Cab_train['distance'] = np.log(Cab_train['distance'])"
   ]
  },
  {
   "cell_type": "code",
   "execution_count": null,
   "metadata": {},
   "outputs": [],
   "source": [
    "# Cab_train['fare_amount'] = np.log(Cab_train['fare_amount'])"
   ]
  },
  {
   "cell_type": "code",
   "execution_count": null,
   "metadata": {},
   "outputs": [],
   "source": [
    "Cab_train.head()"
   ]
  },
  {
   "cell_type": "code",
   "execution_count": null,
   "metadata": {},
   "outputs": [],
   "source": [
    "# We shall check for normality again after log transformation of distance variable\n",
    "\n",
    "sns.distplot(Cab_train['distance'],bins='auto',color='blue')\n",
    "plt.title(\"Distribution of distance after log transformation\")\n",
    "plt.ylabel(\"Density\")\n",
    "plt.show()\n",
    "\n",
    "# We can observe now, after applying log function, the data is normalised"
   ]
  },
  {
   "cell_type": "markdown",
   "metadata": {},
   "source": [
    "# Model development "
   ]
  },
  {
   "cell_type": "code",
   "execution_count": null,
   "metadata": {},
   "outputs": [],
   "source": [
    "# Load Required libraries for model development \n",
    "from sklearn.model_selection import train_test_split\n",
    "from sklearn.metrics import mean_squared_error\n",
    "from sklearn.metrics import r2_score\n",
    "from sklearn.linear_model import LinearRegression\n",
    "from sklearn.tree import DecisionTreeRegressor\n",
    "from sklearn.ensemble import RandomForestRegressor\n",
    "from sklearn import metrics"
   ]
  },
  {
   "cell_type": "code",
   "execution_count": null,
   "metadata": {},
   "outputs": [],
   "source": [
    "# Lets Divide the data into train and test set \n",
    "\n",
    "X= Cab_train.drop(['fare_amount'],axis=1)\n",
    "y= Cab_train['fare_amount']"
   ]
  },
  {
   "cell_type": "code",
   "execution_count": null,
   "metadata": {},
   "outputs": [],
   "source": [
    "# Now Split the data into train and test using train_test_split function\n",
    "X_train, X_test, y_train, y_test = train_test_split( X, y, test_size=0.2, random_state=101)"
   ]
  },
  {
   "cell_type": "code",
   "execution_count": null,
   "metadata": {},
   "outputs": [],
   "source": [
    "# Function for Error metrics to calculate the performance of model\n",
    "def MAPE(y_true,y_prediction):\n",
    "    mape= np.mean(np.abs(y_true-y_prediction)/y_true)*100\n",
    "    return mape"
   ]
  },
  {
   "cell_type": "code",
   "execution_count": null,
   "metadata": {},
   "outputs": [],
   "source": [
    "# Linear Regression model"
   ]
  },
  {
   "cell_type": "code",
   "execution_count": null,
   "metadata": {},
   "outputs": [],
   "source": [
    "np.asarray(Cab_train)"
   ]
  },
  {
   "cell_type": "code",
   "execution_count": null,
   "metadata": {},
   "outputs": [],
   "source": [
    "#lets build Linear Regression model on train data\n",
    "LinearRegression_model = LinearRegression().fit(X_train, y_train)"
   ]
  },
  {
   "cell_type": "code",
   "execution_count": null,
   "metadata": {},
   "outputs": [],
   "source": [
    "# Model prediction on  train data\n",
    "LinearRegression_train= LinearRegression_model.predict(X_train)\n",
    "\n",
    "# Model prediction on test data\n",
    "LinearRegression_test= LinearRegression_model.predict(X_test)\n",
    "\n",
    "# MAPE for train data\n",
    "MAPE_train= MAPE(y_train,LinearRegression_train)\n",
    "\n",
    "# MAPE for on test data\n",
    "MAPE_test= MAPE(y_test,LinearRegression_test)\n",
    "\n",
    "# r2 value for train data\n",
    "r2_train= r2_score(y_train,LinearRegression_train)\n",
    "\n",
    "# r2 value for test data-\n",
    "r2_test=r2_score(y_test,LinearRegression_test)\n",
    "\n",
    "# RMSE value for train data\n",
    "RMSE_train = np.sqrt(metrics.mean_squared_error(y_train,LinearRegression_train))\n",
    "\n",
    "# RMSE value for test data\n",
    "RMSE_test = np.sqrt(metrics.mean_squared_error(y_test,LinearRegression_test))\n",
    "\n",
    "print(\"Mean Absolute Precentage Error for train data=\"+str(MAPE_train))\n",
    "print(\"Mean Absolute Precentage Error for test data=\"+str(MAPE_test))\n",
    "print(\"R^2_score for train data=\"+str(r2_train))\n",
    "print(\"R^2_score for test data=\"+str(r2_test))\n",
    "print(\"RMSE for train data=\"+str (RMSE_train))\n",
    "print(\"RMSE for test data=\"+str(RMSE_test))"
   ]
  },
  {
   "cell_type": "code",
   "execution_count": null,
   "metadata": {},
   "outputs": [],
   "source": [
    "Error_MetricsLT = {'Model Name': ['Linear Regression'],\n",
    "                 'MAPE_Train':[MAPE_train],\n",
    "                 'MAPE_Test':[MAPE_test],\n",
    "                 'R-squared_Train':[r2_train],\n",
    "                 'R-squared_Test':[r2_test],\n",
    "                 'RMSE_train':[RMSE_train],\n",
    "                 'RMSE_test':[RMSE_test]}\n",
    "\n",
    "LinearRegression_Results = pd.DataFrame(Error_MetricsLT)\n",
    "LinearRegression_Results"
   ]
  },
  {
   "cell_type": "code",
   "execution_count": null,
   "metadata": {},
   "outputs": [],
   "source": [
    "#Decision tree"
   ]
  },
  {
   "cell_type": "code",
   "execution_count": null,
   "metadata": {},
   "outputs": [],
   "source": [
    "# Decision tree for regression\n",
    "DecisionTree_model= DecisionTreeRegressor(max_depth=2).fit(X_train,y_train)\n",
    "\n",
    "# Model prediction on train data\n",
    "DecisionTree_train= DecisionTree_model.predict(X_train)\n",
    "\n",
    "# Model prediction on test data\n",
    "DecisionTree_test= DecisionTree_model.predict(X_test)\n",
    "\n",
    "# Model performance on train data\n",
    "MAPE_train= MAPE(y_train,DecisionTree_train)\n",
    "\n",
    "# Model performance on test data\n",
    "MAPE_test= MAPE(y_test,DecisionTree_test)\n",
    "\n",
    "# r2 value for train data\n",
    "r2_train= r2_score(y_train,DecisionTree_train)\n",
    "\n",
    "# r2 value for test data\n",
    "r2_test=r2_score(y_test,DecisionTree_test)\n",
    "\n",
    "# RMSE value for train data\n",
    "RMSE_train = np.sqrt(metrics.mean_squared_error(y_train,DecisionTree_train))\n",
    "\n",
    "# RMSE value for test data\n",
    "RMSE_test = np.sqrt(metrics.mean_squared_error(y_test,DecisionTree_test))\n",
    "\n",
    "print(\"Mean Absolute Precentage Error for train data=\"+str(MAPE_train))\n",
    "print(\"Mean Absolute Precentage Error for test data=\"+str(MAPE_test))\n",
    "print(\"R^2_score for train data=\"+str(r2_train))\n",
    "print(\"R^2_score for test data=\"+str(r2_test))\n",
    "print(\"RMSE for train data=\"+str(RMSE_train))\n",
    "print(\"RMSE for test data=\"+str(RMSE_test))"
   ]
  },
  {
   "cell_type": "code",
   "execution_count": null,
   "metadata": {},
   "outputs": [],
   "source": [
    "Error_MetricsDT = {'Model Name': ['Decision Tree'],\n",
    "                 'MAPE_Train':[MAPE_train],\n",
    "                 'MAPE_Test':[MAPE_test],\n",
    "                 'R-squared_Train':[r2_train],\n",
    "                 'R-squared_Test':[r2_test],\n",
    "                 'RMSE_train':[RMSE_train],\n",
    "                 'RMSE_test':[RMSE_test]}\n",
    "                   \n",
    "DecisionTree_Results = pd.DataFrame(Error_MetricsDT)\n",
    "DecisionTree_Results"
   ]
  },
  {
   "cell_type": "code",
   "execution_count": null,
   "metadata": {},
   "outputs": [],
   "source": [
    "#Random search cv in decision tree"
   ]
  },
  {
   "cell_type": "code",
   "execution_count": null,
   "metadata": {},
   "outputs": [],
   "source": [
    "# Import libraries \n",
    "from sklearn.model_selection import RandomizedSearchCV\n",
    "\n",
    "RandomDecisionTree = DecisionTreeRegressor(random_state = 0)\n",
    "depth = list(range(1,20,2))\n",
    "random_search = {'max_depth': depth}\n",
    "\n",
    "# Lets build a model using above parameters on train data \n",
    "RandomDecisionTree_model= RandomizedSearchCV(RandomDecisionTree,param_distributions= random_search,n_iter=5,cv=5)\n",
    "RandomDecisionTree_model= RandomDecisionTree_model.fit(X_train,y_train)\n"
   ]
  },
  {
   "cell_type": "code",
   "execution_count": null,
   "metadata": {},
   "outputs": [],
   "source": [
    "# Lets look into best fit parameters\n",
    "best_parameters = RandomDecisionTree_model.best_params_\n",
    "print(best_parameters)"
   ]
  },
  {
   "cell_type": "code",
   "execution_count": null,
   "metadata": {},
   "outputs": [],
   "source": [
    "# Again rebuild decision tree model using randomsearch best fit parameter ie\n",
    "# with maximum depth = 1\n",
    "RDT_best_model = RandomDecisionTree_model.best_estimator_\n",
    "print(RDT_best_model)"
   ]
  },
  {
   "cell_type": "code",
   "execution_count": null,
   "metadata": {},
   "outputs": [],
   "source": [
    "# Prediction on train data \n",
    "RDT_train = RDT_best_model.predict(X_train)\n",
    "\n",
    "# Prediction on test data \n",
    "RDT_test = RDT_best_model.predict(X_test)\n",
    "\n",
    "# Lets check Model performance on both test and train using error metrics of regression like mape,rsquare value\n",
    "# MAPE for train data \n",
    "MAPE_train= MAPE(y_train,RDT_train)\n",
    "\n",
    "# MAPE for test data \n",
    "MAPE_test= MAPE(y_test,RDT_test)\n",
    "\n",
    "# Rsquare for train data\n",
    "r2_train= r2_score(y_train,RDT_train)\n",
    "\n",
    "# Rsquare for test data\n",
    "r2_test=r2_score(y_test,RDT_test)\n",
    "\n",
    "# RMSE value for train data\n",
    "RMSE_train = np.sqrt(metrics.mean_squared_error(y_train,RDT_train))\n",
    "\n",
    "# RMSE value for test data\n",
    "RMSE_test = np.sqrt(metrics.mean_squared_error(y_test,RDT_test))\n",
    "\n",
    "\n",
    "# Lets print the results \n",
    "print(\"Best Parameter=\"+str(best_parameters))\n",
    "print(\"Best Model=\"+str(RDT_best_model))\n",
    "print(\"Mean Absolute Precentage Error for train data=\"+str(MAPE_train))\n",
    "print(\"Mean Absolute Precentage Error for test data=\"+str(MAPE_test))\n",
    "print(\"R^2_score for train data=\"+str(r2_train))\n",
    "print(\"R^2_score for test data=\"+str(r2_test))\n",
    "print(\"RMSE for train data=\"+str (RMSE_train))\n",
    "print(\"RMSE for test data=\"+str(RMSE_test))"
   ]
  },
  {
   "cell_type": "code",
   "execution_count": null,
   "metadata": {},
   "outputs": [],
   "source": [
    "Error_MetricsRDT = {'Model Name': ['Random Search CV Decision Tree'],\n",
    "                 'MAPE_Train':[MAPE_train],\n",
    "                 'MAPE_Test':[MAPE_test],\n",
    "                 'R-squared_Train':[r2_train],\n",
    "                 'R-squared_Test':[r2_test],\n",
    "                 'RMSE_train':[RMSE_train],\n",
    "                 'RMSE_test':[RMSE_test]}\n",
    "                   \n",
    "RandomDecisionTree_Results = pd.DataFrame(Error_MetricsRDT)\n",
    "RandomDecisionTree_Results"
   ]
  },
  {
   "cell_type": "code",
   "execution_count": null,
   "metadata": {},
   "outputs": [],
   "source": [
    "# Grid Search CV in Decision Tree"
   ]
  },
  {
   "cell_type": "code",
   "execution_count": null,
   "metadata": {},
   "outputs": [],
   "source": [
    "# Import libraries\n",
    "from sklearn.model_selection import GridSearchCV\n",
    "\n",
    "GridDecisionTree= DecisionTreeRegressor(random_state=0)\n",
    "depth= list(range(1,20,2))\n",
    "grid_search= {'max_depth':depth}\n",
    "\n",
    "# Lets build a model using above parameters on train data\n",
    "GridDecisionTree_model= GridSearchCV(GridDecisionTree,param_grid=grid_search,cv=5)\n",
    "GridDecisionTree_model= GridDecisionTree_model.fit(X_train,y_train)"
   ]
  },
  {
   "cell_type": "code",
   "execution_count": null,
   "metadata": {},
   "outputs": [],
   "source": [
    "# Lets look into best fit parameters from gridsearch cv DT\n",
    "best_parameters = GridDecisionTree_model.best_params_\n",
    "print(best_parameters)"
   ]
  },
  {
   "cell_type": "code",
   "execution_count": null,
   "metadata": {},
   "outputs": [],
   "source": [
    "# Again rebuild decision tree model using gridsearch best fit parameter ie\n",
    "# with maximum depth = 1\n",
    "GDT_best_model = GridDecisionTree_model.best_estimator_"
   ]
  },
  {
   "cell_type": "code",
   "execution_count": null,
   "metadata": {},
   "outputs": [],
   "source": [
    "# Prediction on train data \n",
    "GDT_train = GDT_best_model.predict(X_train)\n",
    "\n",
    "# Prediction on train data  test data-\n",
    "GDT_test = GDT_best_model.predict(X_test)\n",
    "\n",
    "# Lets check Model performance on both test and train using error metrics of regression like mape,rsquare value\n",
    "# MAPE for train data \n",
    "MAPE_train= MAPE(y_train,GDT_train)\n",
    "\n",
    "# MAPE for test data \n",
    "MAPE_test= MAPE(y_test,GDT_test)\n",
    "\n",
    "# Rsquare for train data\n",
    "r2_train= r2_score(y_train,GDT_train)\n",
    "\n",
    "# Rsquare for train data\n",
    "r2_test=r2_score(y_test,GDT_test)\n",
    "\n",
    "# RMSE value for train data\n",
    "RMSE_train = np.sqrt(metrics.mean_squared_error(y_train,GDT_train))\n",
    "\n",
    "# RMSE value for test data\n",
    "RMSE_test = np.sqrt(metrics.mean_squared_error(y_test,GDT_test))\n",
    "\n",
    "\n",
    "print(\"Best Parameter=\"+str(best_parameters))\n",
    "print(\"Best Model=\"+str(GDT_best_model))\n",
    "print(\"Mean Absolute Precentage Error for train data=\"+str(MAPE_train))\n",
    "print(\"Mean Absolute Precentage Error for test data=\"+str(MAPE_test))\n",
    "print(\"R^2_score for train data=\"+str(r2_train))\n",
    "print(\"R^2_score for test data=\"+str(r2_test))\n",
    "print(\"RMSE for train data=\"+str (RMSE_train))\n",
    "print(\"RMSE for test data=\"+str(RMSE_test))\n"
   ]
  },
  {
   "cell_type": "code",
   "execution_count": null,
   "metadata": {},
   "outputs": [],
   "source": [
    "Error_MetricsGDT = {'Model Name': ['Grid Search CV Decision Tree'],\n",
    "                 'MAPE_Train':[MAPE_train],\n",
    "                 'MAPE_Test':[MAPE_test],\n",
    "                 'R-squared_Train':[r2_train],\n",
    "                 'R-squared_Test':[r2_test],\n",
    "                 'RMSE_train':[RMSE_train],\n",
    "                 'RMSE_test':[RMSE_test]}\n",
    "                   \n",
    "GridDecisionTree_Results = pd.DataFrame(Error_MetricsGDT)\n",
    "GridDecisionTree_Results"
   ]
  },
  {
   "cell_type": "code",
   "execution_count": null,
   "metadata": {},
   "outputs": [],
   "source": [
    "#Random forest"
   ]
  },
  {
   "cell_type": "code",
   "execution_count": null,
   "metadata": {},
   "outputs": [],
   "source": [
    "# Random Forest for regression\n",
    "RF_model= RandomForestRegressor(n_estimators=100).fit(X_train,y_train)\n",
    "\n",
    "# Prediction on train data\n",
    "RF_train= RF_model.predict(X_train)\n",
    "\n",
    "# Prediction on test data\n",
    "RF_test= RF_model.predict(X_test)\n",
    "\n",
    "# MAPE For train data\n",
    "MAPE_train= MAPE(y_train,RF_train)\n",
    "\n",
    "# MAPE For test data\n",
    "MAPE_test= MAPE(y_test,RF_test)\n",
    "\n",
    "# Rsquare  For train data\n",
    "r2_train= r2_score(y_train,RF_train)\n",
    "\n",
    "# Rsquare  For test data\n",
    "r2_test=r2_score(y_test,RF_test)\n",
    "\n",
    "# RMSE value for train data\n",
    "RMSE_train = np.sqrt(metrics.mean_squared_error(y_train,RF_train))\n",
    "\n",
    "# RMSE value for test data\n",
    "RMSE_test = np.sqrt(metrics.mean_squared_error(y_test,RF_test))\n",
    "\n",
    "print(\"Mean Absolute Precentage Error for train data=\"+str(MAPE_train))\n",
    "print(\"Mean Absolute Precentage Error for test data=\"+str(MAPE_test))\n",
    "print(\"R^2_score for train data=\"+str(r2_train))\n",
    "print(\"R^2_score for test data=\"+str(r2_test))\n",
    "print(\"RMSE for train data=\"+str (RMSE_train))\n",
    "print(\"RMSE for test data=\"+str(RMSE_test))\n"
   ]
  },
  {
   "cell_type": "code",
   "execution_count": null,
   "metadata": {},
   "outputs": [],
   "source": [
    "Error_MetricsRF = {'Model Name': ['Random Forest'],\n",
    "                 'MAPE_Train':[MAPE_train],\n",
    "                 'MAPE_Test':[MAPE_test],\n",
    "                 'R-squared_Train':[r2_train],\n",
    "                 'R-squared_Test':[r2_test],\n",
    "                 'RMSE_train':[RMSE_train],\n",
    "                 'RMSE_test':[RMSE_test]}\n",
    "                   \n",
    "RandomForest_Results = pd.DataFrame(Error_MetricsRF)\n",
    "RandomForest_Results"
   ]
  },
  {
   "cell_type": "code",
   "execution_count": null,
   "metadata": {},
   "outputs": [],
   "source": [
    "# Random Search CV in Random Forest"
   ]
  },
  {
   "cell_type": "code",
   "execution_count": null,
   "metadata": {},
   "outputs": [],
   "source": [
    "# Import libraries\n",
    "from sklearn.model_selection import RandomizedSearchCV\n",
    "\n",
    "RandomRandomForest = RandomForestRegressor(random_state = 0)\n",
    "n_estimator = list(range(1,100,2))\n",
    "depth = list(range(1,20,2))\n",
    "random_search = {'n_estimators':n_estimator, 'max_depth': depth}\n",
    "\n",
    "# Lets build a model using above parameters on train data\n",
    "RandomRandomForest_model= RandomizedSearchCV(RandomRandomForest,param_distributions= random_search,n_iter=5,cv=5)\n",
    "RandomRandomForest_model= RandomRandomForest_model.fit(X_train,y_train)"
   ]
  },
  {
   "cell_type": "code",
   "execution_count": null,
   "metadata": {},
   "outputs": [],
   "source": [
    "# Best parameters for model\n",
    "best_parameters = RandomRandomForest_model.best_params_\n",
    "print(best_parameters)"
   ]
  },
  {
   "cell_type": "code",
   "execution_count": null,
   "metadata": {},
   "outputs": [],
   "source": [
    "# Again rebuild random forest  model using gridsearch best fit parameter\n",
    "#n_estimators: 59, max_depth: 3\n",
    "RRF_best_model = RandomRandomForest_model.best_estimator_"
   ]
  },
  {
   "cell_type": "code",
   "execution_count": null,
   "metadata": {},
   "outputs": [],
   "source": [
    "# Prediction on train data\n",
    "RRF_train = RRF_best_model.predict(X_train)\n",
    "\n",
    "# Prediction on test data\n",
    "RRF_test = RRF_best_model.predict(X_test)\n",
    "\n",
    "# Lets check Model performance on both test and train using error metrics of regression like mape,rsquare value\n",
    "# MAPE for train data \n",
    "MAPE_train= MAPE(y_train,RRF_train)\n",
    "\n",
    "# MAPE for test data\n",
    "MAPE_test= MAPE(y_test,RRF_test)\n",
    "\n",
    "# Rsquare for train data\n",
    "r2_train= r2_score(y_train,RRF_train)\n",
    "\n",
    "# Rsquare for test data\n",
    "r2_test=r2_score(y_test,RRF_test)\n",
    "\n",
    "# RMSE value for train data\n",
    "RMSE_train = np.sqrt(metrics.mean_squared_error(y_train,RRF_train))\n",
    "\n",
    "# RMSE value for test data\n",
    "RMSE_test = np.sqrt(metrics.mean_squared_error(y_test,RRF_test))\n",
    "\n",
    "\n",
    "print(\"Best Parameter=\"+str(best_parameters))\n",
    "print(\"Best Model=\"+str(RRF_best_model))\n",
    "print(\"Mean Absolute Precentage Error for train data=\"+str(MAPE_train))\n",
    "print(\"Mean Absolute Precentage Error for test data=\"+str(MAPE_test))\n",
    "print(\"R^2_score for train data=\"+str(r2_train))\n",
    "print(\"R^2_score for test data=\"+str(r2_test))\n",
    "print(\"RMSE for train data=\"+str (RMSE_train))\n",
    "print(\"RMSE for test data=\"+str(RMSE_test))"
   ]
  },
  {
   "cell_type": "code",
   "execution_count": null,
   "metadata": {},
   "outputs": [],
   "source": [
    "Error_MetricsRSRF = {'Model Name': ['Random Search CV Random Forest'],\n",
    "                 'MAPE_Train':[MAPE_train],\n",
    "                 'MAPE_Test':[MAPE_test],\n",
    "                 'R-squared_Train':[r2_train],\n",
    "                 'R-squared_Test':[r2_test],\n",
    "                 'RMSE_train':[RMSE_train],\n",
    "                 'RMSE_test':[RMSE_test]}\n",
    "                   \n",
    "RandomSearchRandomForest_Results = pd.DataFrame(Error_MetricsRSRF)"
   ]
  },
  {
   "cell_type": "code",
   "execution_count": null,
   "metadata": {},
   "outputs": [],
   "source": [
    "RandomSearchRandomForest_Results"
   ]
  },
  {
   "cell_type": "code",
   "execution_count": null,
   "metadata": {},
   "outputs": [],
   "source": [
    "# Grid search CV in Random Forest"
   ]
  },
  {
   "cell_type": "code",
   "execution_count": null,
   "metadata": {},
   "outputs": [],
   "source": [
    "# Import libraries\n",
    "from sklearn.model_selection import GridSearchCV\n",
    "\n",
    "GridRandomForest= RandomForestRegressor(random_state=0)\n",
    "n_estimator = list(range(1,20,2))\n",
    "depth= list(range(1,20,2))\n",
    "grid_search= {'n_estimators':n_estimator, 'max_depth': depth}"
   ]
  },
  {
   "cell_type": "code",
   "execution_count": null,
   "metadata": {},
   "outputs": [],
   "source": [
    "# Lets build a model using above parameters on train data using random forest grid search cv \n",
    "GridRandomForest_model= GridSearchCV(GridRandomForest,param_grid=grid_search,cv=5)\n",
    "GridRandomForest_model= GridRandomForest_model.fit(X_train,y_train)"
   ]
  },
  {
   "cell_type": "code",
   "execution_count": null,
   "metadata": {},
   "outputs": [],
   "source": [
    "# Best fit parameters for model\n",
    "best_parameters_GRF = GridRandomForest_model.best_params_\n",
    "print(best_parameters_GRF)"
   ]
  },
  {
   "cell_type": "code",
   "execution_count": null,
   "metadata": {},
   "outputs": [],
   "source": [
    "# Again rebuild random forest model using gridsearch best fit parameter \n",
    "#n_estimators: 19, max_depth: 3\n",
    "GRF_best_model = GridRandomForest_model.best_estimator_"
   ]
  },
  {
   "cell_type": "code",
   "execution_count": null,
   "metadata": {},
   "outputs": [],
   "source": [
    "# Prediction on train data\n",
    "GRF_train = GRF_best_model.predict(X_train)\n",
    "\n",
    "# Prediction on test data\n",
    "GRF_test = GRF_best_model.predict(X_test)\n",
    "\n",
    "# Lets check Model performance on both test and train using error metrics of regression like mape,rsquare value\n",
    "# MAPE for train data\n",
    "MAPE_train= MAPE(y_train,GRF_train)\n",
    "\n",
    "# MAPE for test data\n",
    "MAPE_test= MAPE(y_test,GRF_test)\n",
    "\n",
    "# Rsquare for train data\n",
    "r2_train= r2_score(y_train,GRF_train)\n",
    "\n",
    "# Rsquare for test data\n",
    "r2_test=r2_score(y_test,GRF_test)\n",
    "\n",
    "# RMSE value for train data\n",
    "RMSE_train = np.sqrt(metrics.mean_squared_error(y_train,GRF_train))\n",
    "\n",
    "# RMSE value for test data\n",
    "RMSE_test = np.sqrt(metrics.mean_squared_error(y_test,GRF_test))\n",
    "\n",
    "print(\"Best Parameter=\"+str(best_parameters))\n",
    "print(\"Best Model=\"+str(GRF_best_model))\n",
    "print(\"Mean Absolute Precentage Error for train data=\"+str(MAPE_train))\n",
    "print(\"Mean Absolute Precentage Error for test data=\"+str(MAPE_test))\n",
    "print(\"R^2_score for train data=\"+str(r2_train))\n",
    "print(\"R^2_score for test data=\"+str(r2_test))\n",
    "print(\"RMSE for train data=\"+str (RMSE_train))\n",
    "print(\"RMSE for test data=\"+str(RMSE_test))"
   ]
  },
  {
   "cell_type": "code",
   "execution_count": null,
   "metadata": {},
   "outputs": [],
   "source": [
    "Error_MetricsGSRF = {'Model Name': ['Grid search CV Random Forest'],\n",
    "                 'MAPE_Train':[MAPE_train],\n",
    "                 'MAPE_Test':[MAPE_test],\n",
    "                 'R-squared_Train':[r2_train],\n",
    "                 'R-squared_Test':[r2_test],\n",
    "                 'RMSE_train':[RMSE_train],\n",
    "                 'RMSE_test':[RMSE_test]}\n",
    "                   \n",
    "GridSearchRandomForest_Results = pd.DataFrame(Error_MetricsGSRF)\n",
    "GridSearchRandomForest_Results"
   ]
  },
  {
   "cell_type": "code",
   "execution_count": null,
   "metadata": {},
   "outputs": [],
   "source": [
    "Final_Results = pd.concat([LinearRegression_Results,\n",
    "                                DecisionTree_Results,\n",
    "                                RandomDecisionTree_Results,\n",
    "                                GridDecisionTree_Results,\n",
    "                                RandomForest_Results,\n",
    "                                RandomSearchRandomForest_Results,\n",
    "                                GridSearchRandomForest_Results,], ignore_index=True, sort =False)\n",
    "Final_Results"
   ]
  },
  {
   "cell_type": "code",
   "execution_count": null,
   "metadata": {},
   "outputs": [],
   "source": [
    "# From above results Random Forest model have optimum values and this\n",
    "# Random forest algorithm is good for our data "
   ]
  },
  {
   "cell_type": "markdown",
   "metadata": {},
   "source": [
    "# Model evaluation for test data"
   ]
  },
  {
   "cell_type": "code",
   "execution_count": null,
   "metadata": {},
   "outputs": [],
   "source": [
    "#lets import test data and apply random forest model for prediction"
   ]
  },
  {
   "cell_type": "code",
   "execution_count": null,
   "metadata": {},
   "outputs": [],
   "source": [
    "# Import the test dataset \n",
    "Cab_test = pd.read_csv(\"test.csv\")"
   ]
  },
  {
   "cell_type": "code",
   "execution_count": null,
   "metadata": {},
   "outputs": [],
   "source": [
    "# Exploring  the  test data \n",
    "\n",
    "# Check class of the data\n",
    "type(Cab_test)"
   ]
  },
  {
   "cell_type": "code",
   "execution_count": null,
   "metadata": {},
   "outputs": [],
   "source": [
    "#Check the dimensions(no of rows and no of columns)\n",
    "Cab_test.shape"
   ]
  },
  {
   "cell_type": "code",
   "execution_count": null,
   "metadata": {},
   "outputs": [],
   "source": [
    "#Check names of dataset(no need of renaming variables)\n",
    "Cab_test.columns \n",
    "\n",
    "# we can see here there is no fare_amount varible we need to predict using RF_model"
   ]
  },
  {
   "cell_type": "code",
   "execution_count": null,
   "metadata": {},
   "outputs": [],
   "source": [
    "#Check top rows of dataset \n",
    "Cab_test.head()"
   ]
  },
  {
   "cell_type": "code",
   "execution_count": null,
   "metadata": {},
   "outputs": [],
   "source": [
    "#Check bottom rows of dataset \n",
    "Cab_test.tail()"
   ]
  },
  {
   "cell_type": "code",
   "execution_count": null,
   "metadata": {},
   "outputs": [],
   "source": [
    "#Check structure of dataset(data structure of each variable)\n",
    "Cab_test.dtypes"
   ]
  },
  {
   "cell_type": "code",
   "execution_count": null,
   "metadata": {},
   "outputs": [],
   "source": [
    "# we have to change pickup_datetime from object to datetime\n",
    "\n",
    "Cab_test['pickup_datetime'] =  pd.to_datetime(Cab_test['pickup_datetime'], format='%Y-%m-%d %H:%M:%S UTC')\n",
    "\n",
    "print(Cab_test.dtypes) \n",
    "# we can see out pickupdate time is converted to date format\n",
    "\n",
    "# Let us see our data after data type conversion of variables\n",
    "\n",
    "print(Cab_test.head())"
   ]
  },
  {
   "cell_type": "code",
   "execution_count": null,
   "metadata": {},
   "outputs": [],
   "source": [
    "# Lets split the pickup_date time variable into year, month, date, day, hour, minute.\n",
    "\n",
    "Cab_test['year'] =Cab_test['pickup_datetime'].dt.year\n",
    "\n",
    "Cab_test['month'] = Cab_test['pickup_datetime'].dt.month\n",
    "\n",
    "Cab_test['date'] = Cab_test['pickup_datetime'].dt.day\n",
    "\n",
    "Cab_test['day'] = Cab_test['pickup_datetime'].dt.dayofweek\n",
    "\n",
    "Cab_test['hour'] = Cab_test['pickup_datetime'].dt.hour"
   ]
  },
  {
   "cell_type": "code",
   "execution_count": null,
   "metadata": {},
   "outputs": [],
   "source": [
    "# Lets cross check our test data\n",
    "Cab_test.head()"
   ]
  },
  {
   "cell_type": "code",
   "execution_count": null,
   "metadata": {},
   "outputs": [],
   "source": [
    "# Missing Value Analysis for testdata"
   ]
  },
  {
   "cell_type": "code",
   "execution_count": null,
   "metadata": {},
   "outputs": [],
   "source": [
    "# Total number of missing values present in whole datset \n",
    "Cab_test.isnull().sum() \n",
    "\n",
    "# no missing values "
   ]
  },
  {
   "cell_type": "code",
   "execution_count": null,
   "metadata": {},
   "outputs": [],
   "source": [
    "# Outlier analysis ------------------------------------\n",
    "# lets check description of variables there we can figure out outliers easily\n",
    "Cab_test.describe()\n",
    "\n",
    "#no outliers "
   ]
  },
  {
   "cell_type": "code",
   "execution_count": null,
   "metadata": {},
   "outputs": [],
   "source": [
    "# Now, let's create distance using Haversine Formula \n",
    "\n",
    "# Calculates the geodesic distance between two points specified by\n",
    "\n",
    "# radian latitude/longitude using the Haversine formula \n",
    "\n",
    "# we already defined these function in Cab_train dataset \n",
    "\n",
    "# Lets apply the function on logitudes and lattitudes to derive distance \n",
    "\n",
    "\n",
    "Cab_test['distance'] = distance(Cab_test['pickup_latitude'], \n",
    "                                     Cab_test['pickup_longitude'],\n",
    "                                     Cab_test['dropoff_latitude'] ,\n",
    "                                     Cab_test['dropoff_longitude'])"
   ]
  },
  {
   "cell_type": "code",
   "execution_count": null,
   "metadata": {},
   "outputs": [],
   "source": [
    "# cross check few observation after creating new variable distance \n",
    "Cab_test.head()"
   ]
  },
  {
   "cell_type": "code",
   "execution_count": null,
   "metadata": {},
   "outputs": [],
   "source": [
    "# Lets check is there any outliers in this distance variable using describe function\n",
    "Cab_test['distance'].describe() # we can see 0 so delete such observations"
   ]
  },
  {
   "cell_type": "code",
   "execution_count": null,
   "metadata": {},
   "outputs": [],
   "source": [
    "Counter(Cab_test['distance'] < 1)"
   ]
  },
  {
   "cell_type": "code",
   "execution_count": null,
   "metadata": {},
   "outputs": [],
   "source": [
    "#insted of dropping those variables,let substitute with mean\n",
    "Cab_test.loc[Cab_test.distance < 1,'distance'] = Cab_test['distance'].mean()"
   ]
  },
  {
   "cell_type": "code",
   "execution_count": null,
   "metadata": {},
   "outputs": [],
   "source": [
    "print(Cab_test['distance'].describe())"
   ]
  },
  {
   "cell_type": "code",
   "execution_count": null,
   "metadata": {},
   "outputs": [],
   "source": [
    "# Lets delete pickup_datetime as we derived year,month,date,day,hour,minute\n",
    "Cab_test = Cab_test.drop('pickup_datetime', axis = 1)"
   ]
  },
  {
   "cell_type": "code",
   "execution_count": null,
   "metadata": {},
   "outputs": [],
   "source": [
    "Cab_test.head()"
   ]
  },
  {
   "cell_type": "code",
   "execution_count": null,
   "metadata": {},
   "outputs": [],
   "source": [
    "# During model development, we deleted few varaibles based on anova test and correlation analysis \n",
    "\n",
    "# The variables in the test case should exactly match with the variables in the trained model \n",
    "\n",
    "Cab_test.columns\n",
    "\n"
   ]
  },
  {
   "cell_type": "code",
   "execution_count": null,
   "metadata": {},
   "outputs": [],
   "source": [
    "Cab_test = Cab_test.drop('date', axis = 1)\n",
    "Cab_test = Cab_test.drop('day', axis = 1)\n",
    "print(Cab_test.columns)"
   ]
  },
  {
   "cell_type": "code",
   "execution_count": null,
   "metadata": {},
   "outputs": [],
   "source": [
    "# Normalizing distance variable \n",
    "\n",
    "# We shall check for normality for distance. Let's first check about the skewness of the distance variable\n",
    "\n",
    "sns.distplot(Cab_test['distance'],bins='auto',color='blue')\n",
    "plt.title(\"Distribution of variable distance\")\n",
    "plt.ylabel(\"Density\")\n",
    "plt.show()\n",
    "\n",
    "# We can observe, the variable is right skewed."
   ]
  },
  {
   "cell_type": "code",
   "execution_count": null,
   "metadata": {},
   "outputs": [],
   "source": [
    "# Using log function to reduce the skewness in distance\n",
    "\n",
    "Cab_test['distance'] = np.log(Cab_test['distance'])"
   ]
  },
  {
   "cell_type": "code",
   "execution_count": null,
   "metadata": {},
   "outputs": [],
   "source": [
    "# We shall check for normality for distance after taking log function\n",
    "sns.distplot(Cab_test['distance'],bins='auto',color='blue')\n",
    "plt.title(\"Distribution of variable distance\")\n",
    "plt.ylabel(\"Density\")\n",
    "plt.show()\n",
    "\n",
    "# We can observe now, after applying log function, the data is normalised"
   ]
  },
  {
   "cell_type": "code",
   "execution_count": null,
   "metadata": {},
   "outputs": [],
   "source": [
    "Cab_test.head()"
   ]
  },
  {
   "cell_type": "code",
   "execution_count": null,
   "metadata": {},
   "outputs": [],
   "source": [
    "# Now lets apply our RF model on this Test_Cab data after cleaning this data \n",
    "\n",
    "Predictions_Cab_test = RF_model.predict(Cab_test)"
   ]
  },
  {
   "cell_type": "code",
   "execution_count": null,
   "metadata": {},
   "outputs": [],
   "source": [
    "Predictions_Cab_test"
   ]
  },
  {
   "cell_type": "code",
   "execution_count": null,
   "metadata": {},
   "outputs": [],
   "source": [
    "# Fianlly creating new variable - Predicted Fare Amount\n",
    "\n",
    "Cab_test['Predicted_Fare_Amount'] = Predictions_Cab_test"
   ]
  },
  {
   "cell_type": "code",
   "execution_count": null,
   "metadata": {},
   "outputs": [],
   "source": [
    "# Lets see our data \n",
    "Cab_test.head()"
   ]
  },
  {
   "cell_type": "code",
   "execution_count": null,
   "metadata": {},
   "outputs": [],
   "source": [
    "Cab_test['Predicted_Fare_Amount'].describe()"
   ]
  },
  {
   "cell_type": "code",
   "execution_count": null,
   "metadata": {},
   "outputs": [],
   "source": [
    "Test_Cab.head(6)"
   ]
  },
  {
   "cell_type": "code",
   "execution_count": null,
   "metadata": {},
   "outputs": [],
   "source": [
    "#save output results \n",
    "Test_Cab.to_csv(\"Cabfarepredicted.csv\", index = False)"
   ]
  },
  {
   "cell_type": "code",
   "execution_count": null,
   "metadata": {},
   "outputs": [],
   "source": []
  }
 ],
 "metadata": {
  "kernelspec": {
   "display_name": "Python 3",
   "language": "python",
   "name": "python3"
  },
  "language_info": {
   "codemirror_mode": {
    "name": "ipython",
    "version": 3
   },
   "file_extension": ".py",
   "mimetype": "text/x-python",
   "name": "python",
   "nbconvert_exporter": "python",
   "pygments_lexer": "ipython3",
   "version": "3.7.3"
  }
 },
 "nbformat": 4,
 "nbformat_minor": 2
}
